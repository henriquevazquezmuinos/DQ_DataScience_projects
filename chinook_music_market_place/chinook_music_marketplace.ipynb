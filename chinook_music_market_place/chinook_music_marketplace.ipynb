{
 "cells": [
  {
   "cell_type": "markdown",
   "metadata": {},
   "source": [
    "# Chinook music webstore\n",
    "The goal of this project is to answer simple business questions regarding a fictious music marketplace called Chinook. We will use SQL language to perform the analysis.\n",
    "\n",
    "The database containing the data is in the chinook.db and chinook-unmodified.db files."
   ]
  },
  {
   "cell_type": "code",
   "execution_count": 1,
   "metadata": {},
   "outputs": [
    {
     "data": {
      "text/plain": [
       "'Connected: None@chinook.db'"
      ]
     },
     "execution_count": 1,
     "metadata": {},
     "output_type": "execute_result"
    }
   ],
   "source": [
    "%%capture\n",
    "%load_ext sql\n",
    "%sql sqlite:///chinook.db"
   ]
  },
  {
   "cell_type": "markdown",
   "metadata": {},
   "source": [
    "### Get familiar with the data inside the database"
   ]
  },
  {
   "cell_type": "code",
   "execution_count": 2,
   "metadata": {},
   "outputs": [
    {
     "name": "stdout",
     "output_type": "stream",
     "text": [
      "Done.\n"
     ]
    },
    {
     "data": {
      "text/html": [
       "<table>\n",
       "    <tr>\n",
       "        <th>name</th>\n",
       "        <th>type</th>\n",
       "    </tr>\n",
       "    <tr>\n",
       "        <td>album</td>\n",
       "        <td>table</td>\n",
       "    </tr>\n",
       "    <tr>\n",
       "        <td>artist</td>\n",
       "        <td>table</td>\n",
       "    </tr>\n",
       "    <tr>\n",
       "        <td>customer</td>\n",
       "        <td>table</td>\n",
       "    </tr>\n",
       "    <tr>\n",
       "        <td>employee</td>\n",
       "        <td>table</td>\n",
       "    </tr>\n",
       "    <tr>\n",
       "        <td>genre</td>\n",
       "        <td>table</td>\n",
       "    </tr>\n",
       "    <tr>\n",
       "        <td>invoice</td>\n",
       "        <td>table</td>\n",
       "    </tr>\n",
       "    <tr>\n",
       "        <td>invoice_line</td>\n",
       "        <td>table</td>\n",
       "    </tr>\n",
       "    <tr>\n",
       "        <td>media_type</td>\n",
       "        <td>table</td>\n",
       "    </tr>\n",
       "    <tr>\n",
       "        <td>playlist</td>\n",
       "        <td>table</td>\n",
       "    </tr>\n",
       "    <tr>\n",
       "        <td>playlist_track</td>\n",
       "        <td>table</td>\n",
       "    </tr>\n",
       "    <tr>\n",
       "        <td>track</td>\n",
       "        <td>table</td>\n",
       "    </tr>\n",
       "    <tr>\n",
       "        <td>sales_country_ordered</td>\n",
       "        <td>view</td>\n",
       "    </tr>\n",
       "    <tr>\n",
       "        <td>album_sales</td>\n",
       "        <td>view</td>\n",
       "    </tr>\n",
       "</table>"
      ],
      "text/plain": [
       "[('album', 'table'),\n",
       " ('artist', 'table'),\n",
       " ('customer', 'table'),\n",
       " ('employee', 'table'),\n",
       " ('genre', 'table'),\n",
       " ('invoice', 'table'),\n",
       " ('invoice_line', 'table'),\n",
       " ('media_type', 'table'),\n",
       " ('playlist', 'table'),\n",
       " ('playlist_track', 'table'),\n",
       " ('track', 'table'),\n",
       " ('sales_country_ordered', 'view'),\n",
       " ('album_sales', 'view')]"
      ]
     },
     "execution_count": 2,
     "metadata": {},
     "output_type": "execute_result"
    }
   ],
   "source": [
    "%%sql\n",
    "SELECT\n",
    "    name,\n",
    "    type\n",
    "FROM sqlite_master\n",
    "WHERE type IN (\"table\",\"view\");"
   ]
  },
  {
   "cell_type": "markdown",
   "metadata": {},
   "source": [
    "## Perform a Market analysis: most sold Music Genres in USA"
   ]
  },
  {
   "cell_type": "markdown",
   "metadata": {},
   "source": [
    "Relation between tables:\n",
    "* track -> (track_id, genre_id,...)\n",
    "* invoice_line -> (invoice_line_id, invoice_id, track_id, unit_price, quantity)\n",
    "* invoice -> (invoice_id, customer_id, ...)\n",
    "* customer -> (customer_id, country, ...)\n",
    "* genre -> (genre_id, genre)\n",
    "\n",
    "To get the most sold genres in USA we must connect:\n",
    "\n",
    "genre ->(genre_id)-> track \n",
    "\n",
    "track ->(track_id)-> invoice_line\n",
    "\n",
    "track -> (track_id) -> playlist_track\n",
    "\n",
    "playlist_track -> (playlist_id) -> playlist\n",
    "\n",
    "invoice_line ->(invoice_id)-> invoice\n",
    "\n",
    "invoice ->(customer_id)-> customer -> country"
   ]
  },
  {
   "cell_type": "code",
   "execution_count": 3,
   "metadata": {},
   "outputs": [
    {
     "name": "stdout",
     "output_type": "stream",
     "text": [
      "Done.\n"
     ]
    },
    {
     "data": {
      "text/html": [
       "<table>\n",
       "    <tr>\n",
       "        <th>name</th>\n",
       "        <th>name_1</th>\n",
       "        <th>SUM(invl.unit_price*invl.quantity)</th>\n",
       "    </tr>\n",
       "    <tr>\n",
       "        <td>Rock</td>\n",
       "        <td>Music</td>\n",
       "        <td>1359.270000000011</td>\n",
       "    </tr>\n",
       "    <tr>\n",
       "        <td>Alternative &amp; Punk</td>\n",
       "        <td>Music</td>\n",
       "        <td>287.10000000000116</td>\n",
       "    </tr>\n",
       "    <tr>\n",
       "        <td>Metal</td>\n",
       "        <td>Music</td>\n",
       "        <td>282.1500000000011</td>\n",
       "    </tr>\n",
       "</table>"
      ],
      "text/plain": [
       "[('Rock', 'Music', 1359.270000000011),\n",
       " ('Alternative & Punk', 'Music', 287.10000000000116),\n",
       " ('Metal', 'Music', 282.1500000000011)]"
      ]
     },
     "execution_count": 3,
     "metadata": {},
     "output_type": "execute_result"
    }
   ],
   "source": [
    "%%sql\n",
    "SELECT gen.name, pl.name, SUM(invl.unit_price*invl.quantity)\n",
    "FROM genre AS gen\n",
    "LEFT JOIN track AS tr ON gen.genre_id = tr.genre_id\n",
    "INNER JOIN invoice_line AS invl ON tr.track_id = invl.track_id\n",
    "INNER JOIN playlist_track AS plt ON tr.track_id = plt.track_id\n",
    "INNER JOIN playlist AS pl ON plt.playlist_id = pl.playlist_id\n",
    "INNER JOIN invoice AS inv ON invl.invoice_id = inv.invoice_id\n",
    "INNER JOIN customer AS c ON inv.customer_id = c.customer_id\n",
    "WHERE (pl.name LIKE \"%Music%\"\n",
    "       AND c.country == 'USA')\n",
    "GROUP BY 1\n",
    "ORDER BY 3 DESC\n",
    "LIMIT 3"
   ]
  },
  {
   "cell_type": "markdown",
   "metadata": {},
   "source": [
    "The 3 Most Sold Genres are Rock, Alternative & Punk and Metal in that given order."
   ]
  },
  {
   "cell_type": "markdown",
   "metadata": {},
   "source": [
    "### Asessing sale performance of employees"
   ]
  },
  {
   "cell_type": "markdown",
   "metadata": {},
   "source": [
    "Additional factors that might affect the employee sales:\n",
    "* Geographical distribution. Sales in some countries might be stronger than others.\n",
    "* Some employees might have been incorporated to the team later."
   ]
  },
  {
   "cell_type": "code",
   "execution_count": 4,
   "metadata": {
    "scrolled": true
   },
   "outputs": [
    {
     "name": "stdout",
     "output_type": "stream",
     "text": [
      "Done.\n"
     ]
    },
    {
     "data": {
      "text/html": [
       "<table>\n",
       "    <tr>\n",
       "        <th>employee_name</th>\n",
       "        <th>total_sold</th>\n",
       "        <th>avg_sold</th>\n",
       "        <th>number_sales</th>\n",
       "        <th>first_transaction</th>\n",
       "        <th>last_transaction</th>\n",
       "    </tr>\n",
       "    <tr>\n",
       "        <td>Jane Peacock</td>\n",
       "        <td>1731.5100000000039</td>\n",
       "        <td>8.167500000000018</td>\n",
       "        <td>212</td>\n",
       "        <td>2017-01-03 00:00:00</td>\n",
       "        <td>2020-12-30 00:00:00</td>\n",
       "    </tr>\n",
       "    <tr>\n",
       "        <td>Margaret Park</td>\n",
       "        <td>1584.0000000000034</td>\n",
       "        <td>7.401869158878521</td>\n",
       "        <td>214</td>\n",
       "        <td>2017-01-05 00:00:00</td>\n",
       "        <td>2020-12-29 00:00:00</td>\n",
       "    </tr>\n",
       "    <tr>\n",
       "        <td>Steve Johnson</td>\n",
       "        <td>1393.920000000002</td>\n",
       "        <td>7.414468085106393</td>\n",
       "        <td>188</td>\n",
       "        <td>2017-01-10 00:00:00</td>\n",
       "        <td>2020-12-20 00:00:00</td>\n",
       "    </tr>\n",
       "</table>"
      ],
      "text/plain": [
       "[('Jane Peacock', 1731.5100000000039, 8.167500000000018, 212, '2017-01-03 00:00:00', '2020-12-30 00:00:00'),\n",
       " ('Margaret Park', 1584.0000000000034, 7.401869158878521, 214, '2017-01-05 00:00:00', '2020-12-29 00:00:00'),\n",
       " ('Steve Johnson', 1393.920000000002, 7.414468085106393, 188, '2017-01-10 00:00:00', '2020-12-20 00:00:00')]"
      ]
     },
     "execution_count": 4,
     "metadata": {},
     "output_type": "execute_result"
    }
   ],
   "source": [
    "%%sql\n",
    "SELECT \n",
    "    emp.first_name || \" \" || emp.last_name AS employee_name,\n",
    "    SUM(inv.total) AS total_sold,\n",
    "    AVG(inv.total) AS avg_sold,\n",
    "    COUNT(inv.total) As number_sales,\n",
    "    MIN(inv.invoice_date) AS first_transaction,\n",
    "    MAX(inv.invoice_date) AS last_transaction\n",
    "FROM invoice AS inv\n",
    "LEFT JOIN customer AS c ON inv.customer_id = c.customer_id\n",
    "LEFT JOIN employee AS emp ON c.support_rep_id = emp.employee_id\n",
    "GROUP BY 1, emp.employee_id"
   ]
  },
  {
   "cell_type": "markdown",
   "metadata": {},
   "source": [
    "The Sales Agent who sold most was Jane Peacock. Seems that the data for the agents covers the identical same time span. Moreover the distribution of countries where they sell seems similar. Jane seems to have done a similar number of sales to the other agents, however, the average sell is around 10% higher than the ones of the other agents."
   ]
  },
  {
   "cell_type": "markdown",
   "metadata": {},
   "source": [
    "### Analysis of sales per country"
   ]
  },
  {
   "cell_type": "code",
   "execution_count": 5,
   "metadata": {},
   "outputs": [
    {
     "name": "stdout",
     "output_type": "stream",
     "text": [
      "Done.\n",
      "Done.\n"
     ]
    },
    {
     "data": {
      "text/plain": [
       "[]"
      ]
     },
     "execution_count": 5,
     "metadata": {},
     "output_type": "execute_result"
    }
   ],
   "source": [
    "%%sql\n",
    "DROP VIEW sales_country_ordered;\n",
    "CREATE VIEW sales_country_ordered AS\n",
    "    WITH \n",
    "    sales_country AS (\n",
    "        SELECT \n",
    "            c.first_name || \" \" || c.last_name AS customer_name,\n",
    "            c.country,\n",
    "            inv.total AS sale\n",
    "        FROM invoice_line AS invl\n",
    "        LEFT JOIN invoice AS inv ON invl.invoice_id = inv.invoice_id\n",
    "        LEFT JOIN customer AS c ON inv.customer_id = c.customer_id\n",
    "    ),\n",
    "    others_countries AS (\n",
    "        SELECT\n",
    "            CASE\n",
    "            WHEN COUNT(customer_name) <= 100 THEN country\n",
    "            END\n",
    "        FROM sales_country\n",
    "        GROUP BY country\n",
    "    ),\n",
    "    sales_country_and_others AS(\n",
    "        SELECT\n",
    "            CASE\n",
    "                WHEN country in (SELECT * FROM others_countries) THEN \"Others\" \n",
    "                ELSE country\n",
    "            END AS customer_country,\n",
    "            *\n",
    "        FROM sales_country\n",
    "    )\n",
    "\n",
    "    SELECT \n",
    "        customer_country,\n",
    "        COUNT(customer_name) AS number_customers,\n",
    "        SUM(sale) AS total_value_sales,\n",
    "        SUM(sale)/COUNT(customer_name) AS average_sales_customer,\n",
    "        AVG(sale) AS average_order,\n",
    "        CASE\n",
    "        WHEN customer_country == \"Others\" THEN 0\n",
    "        ELSE 1\n",
    "        END AS orderflag\n",
    "    FROM sales_country_and_others\n",
    "    GROUP BY customer_country\n",
    "    ORDER BY orderflag DESC\n"
   ]
  },
  {
   "cell_type": "code",
   "execution_count": 6,
   "metadata": {},
   "outputs": [
    {
     "name": "stdout",
     "output_type": "stream",
     "text": [
      "Done.\n"
     ]
    },
    {
     "data": {
      "text/html": [
       "<table>\n",
       "    <tr>\n",
       "        <th>customer_country</th>\n",
       "        <th>number_customers</th>\n",
       "        <th>total_value_sales</th>\n",
       "        <th>average_sales_customer</th>\n",
       "        <th>average_order</th>\n",
       "        <th>orderflag</th>\n",
       "    </tr>\n",
       "    <tr>\n",
       "        <td>Brazil</td>\n",
       "        <td>432</td>\n",
       "        <td>4058.999999999997</td>\n",
       "        <td>9.395833333333327</td>\n",
       "        <td>9.395833333333327</td>\n",
       "        <td>1</td>\n",
       "    </tr>\n",
       "    <tr>\n",
       "        <td>Canada</td>\n",
       "        <td>541</td>\n",
       "        <td>5489.549999999994</td>\n",
       "        <td>10.147042513863205</td>\n",
       "        <td>10.147042513863205</td>\n",
       "        <td>1</td>\n",
       "    </tr>\n",
       "    <tr>\n",
       "        <td>Czech Republic</td>\n",
       "        <td>276</td>\n",
       "        <td>3183.8400000000074</td>\n",
       "        <td>11.53565217391307</td>\n",
       "        <td>11.53565217391307</td>\n",
       "        <td>1</td>\n",
       "    </tr>\n",
       "    <tr>\n",
       "        <td>France</td>\n",
       "        <td>393</td>\n",
       "        <td>3972.869999999995</td>\n",
       "        <td>10.109083969465637</td>\n",
       "        <td>10.109083969465637</td>\n",
       "        <td>1</td>\n",
       "    </tr>\n",
       "    <tr>\n",
       "        <td>Germany</td>\n",
       "        <td>338</td>\n",
       "        <td>3441.2399999999925</td>\n",
       "        <td>10.18118343195264</td>\n",
       "        <td>10.18118343195264</td>\n",
       "        <td>1</td>\n",
       "    </tr>\n",
       "    <tr>\n",
       "        <td>India</td>\n",
       "        <td>185</td>\n",
       "        <td>1887.9299999999994</td>\n",
       "        <td>10.205027027027024</td>\n",
       "        <td>10.205027027027024</td>\n",
       "        <td>1</td>\n",
       "    </tr>\n",
       "    <tr>\n",
       "        <td>Ireland</td>\n",
       "        <td>116</td>\n",
       "        <td>1433.5199999999986</td>\n",
       "        <td>12.357931034482746</td>\n",
       "        <td>12.357931034482746</td>\n",
       "        <td>1</td>\n",
       "    </tr>\n",
       "    <tr>\n",
       "        <td>Portugal</td>\n",
       "        <td>187</td>\n",
       "        <td>1755.2700000000011</td>\n",
       "        <td>9.3864705882353</td>\n",
       "        <td>9.3864705882353</td>\n",
       "        <td>1</td>\n",
       "    </tr>\n",
       "    <tr>\n",
       "        <td>USA</td>\n",
       "        <td>1051</td>\n",
       "        <td>10405.889999999912</td>\n",
       "        <td>9.900941960037976</td>\n",
       "        <td>9.900941960037976</td>\n",
       "        <td>1</td>\n",
       "    </tr>\n",
       "    <tr>\n",
       "        <td>United Kingdom</td>\n",
       "        <td>248</td>\n",
       "        <td>2498.7600000000025</td>\n",
       "        <td>10.075645161290332</td>\n",
       "        <td>10.075645161290332</td>\n",
       "        <td>1</td>\n",
       "    </tr>\n",
       "    <tr>\n",
       "        <td>Others</td>\n",
       "        <td>990</td>\n",
       "        <td>9375.299999999963</td>\n",
       "        <td>9.469999999999963</td>\n",
       "        <td>9.469999999999963</td>\n",
       "        <td>0</td>\n",
       "    </tr>\n",
       "</table>"
      ],
      "text/plain": [
       "[('Brazil', 432, 4058.999999999997, 9.395833333333327, 9.395833333333327, 1),\n",
       " ('Canada', 541, 5489.549999999994, 10.147042513863205, 10.147042513863205, 1),\n",
       " ('Czech Republic', 276, 3183.8400000000074, 11.53565217391307, 11.53565217391307, 1),\n",
       " ('France', 393, 3972.869999999995, 10.109083969465637, 10.109083969465637, 1),\n",
       " ('Germany', 338, 3441.2399999999925, 10.18118343195264, 10.18118343195264, 1),\n",
       " ('India', 185, 1887.9299999999994, 10.205027027027024, 10.205027027027024, 1),\n",
       " ('Ireland', 116, 1433.5199999999986, 12.357931034482746, 12.357931034482746, 1),\n",
       " ('Portugal', 187, 1755.2700000000011, 9.3864705882353, 9.3864705882353, 1),\n",
       " ('USA', 1051, 10405.889999999912, 9.900941960037976, 9.900941960037976, 1),\n",
       " ('United Kingdom', 248, 2498.7600000000025, 10.075645161290332, 10.075645161290332, 1),\n",
       " ('Others', 990, 9375.299999999963, 9.469999999999963, 9.469999999999963, 0)]"
      ]
     },
     "execution_count": 6,
     "metadata": {},
     "output_type": "execute_result"
    }
   ],
   "source": [
    "%%sql\n",
    "SELECT *\n",
    "FROM sales_country_ordered"
   ]
  },
  {
   "cell_type": "markdown",
   "metadata": {},
   "source": [
    "I did not find any country with 1 or less customers, however I grouped the coutnries with 100 or less customers into the Others group. I found out that Denmark has a remarkably smaller average sale price than other countries, almost half."
   ]
  },
  {
   "cell_type": "markdown",
   "metadata": {},
   "source": [
    "### Find out the percentage of single to full-album purchases"
   ]
  },
  {
   "cell_type": "markdown",
   "metadata": {},
   "source": [
    "We must consider explicitly the following edge cases:\n",
    "* Ignore albums with only few tracks (<=2)\n",
    "* Customers might add manually every track in the album and add some others. Apparently, this does not happen often.\n",
    "\n",
    "Attack plan for this problem:\n",
    "* Figure out all the possible albums, this is not necessary, since we assume that all the tracks are from the same album when an album purchase takes place.\n",
    "* Compare the track list to the track list of the album with EXCEPT. If equal add album_purchase = 1 flag.\n",
    "* Create a table of album songs for each album\n",
    "* Create a table of songs in each invoice"
   ]
  },
  {
   "cell_type": "code",
   "execution_count": 45,
   "metadata": {},
   "outputs": [
    {
     "name": "stdout",
     "output_type": "stream",
     "text": [
      "Done.\n",
      "Done.\n",
      "Done.\n"
     ]
    },
    {
     "data": {
      "text/html": [
       "<table>\n",
       "    <tr>\n",
       "        <th>is_album</th>\n",
       "        <th>number_invoices</th>\n",
       "        <th>percentage_invoices</th>\n",
       "    </tr>\n",
       "    <tr>\n",
       "        <td>0</td>\n",
       "        <td>3281</td>\n",
       "        <td>0.6897204120243852</td>\n",
       "    </tr>\n",
       "    <tr>\n",
       "        <td>1</td>\n",
       "        <td>1476</td>\n",
       "        <td>0.3102795879756149</td>\n",
       "    </tr>\n",
       "</table>"
      ],
      "text/plain": [
       "[(0, 3281, 0.6897204120243852), (1, 1476, 0.3102795879756149)]"
      ]
     },
     "execution_count": 45,
     "metadata": {},
     "output_type": "execute_result"
    }
   ],
   "source": [
    "%%sql\n",
    "\n",
    "DROP VIEW album_sales;\n",
    "CREATE VIEW album_sales AS\n",
    "    SELECT \n",
    "        tr.track_id,\n",
    "        tr.album_id,\n",
    "        inv.total AS sale,\n",
    "        inv.invoice_id\n",
    "    FROM invoice_line AS invl\n",
    "    LEFT JOIN invoice AS inv ON invl.invoice_id = inv.invoice_id\n",
    "    LEFT JOIN track AS tr ON invl.track_id = tr.track_id;\n",
    "\n",
    "WITH invoice_album AS (\n",
    "    SELECT\n",
    "        al1.invoice_id,\n",
    "        CASE\n",
    "        WHEN \n",
    "            (\n",
    "            SELECT al2.track_id \n",
    "            FROM album_sales AS al2 \n",
    "            WHERE al2.invoice_id == al1.invoice_id\n",
    "            \n",
    "            EXCEPT\n",
    "    \n",
    "            SELECT al2.track_id \n",
    "            FROM album_sales AS al2 \n",
    "            WHERE al2.album_id == al1.album_id\n",
    "            GROUP BY al2.track_id\n",
    "            ) IS NULL\n",
    "            AND\n",
    "            (\n",
    "            SELECT al2.track_id \n",
    "            FROM album_sales AS al2 \n",
    "            WHERE al2.album_id == al1.album_id\n",
    "            GROUP BY al2.track_id\n",
    "            \n",
    "            EXCEPT\n",
    "                \n",
    "            SELECT al2.track_id \n",
    "            FROM album_sales AS al2 \n",
    "            WHERE al2.invoice_id == al1.invoice_id\n",
    "            ) IS NULL THEN 1\n",
    "        ELSE 0\n",
    "        END AS is_album\n",
    "    FROM album_sales AS al1\n",
    ")\n",
    "\n",
    "SELECT \n",
    "    is_album,\n",
    "    COUNT(invoice_id) AS number_invoices, \n",
    "    CAST(COUNT(invoice_id) AS Float)/(SELECT COUNT(*) \n",
    "                                      FROM invoice_album\n",
    "                                     )*100 AS percentage_invoices \n",
    "FROM invoice_album\n",
    "GROUP BY is_album\n"
   ]
  },
  {
   "cell_type": "markdown",
   "metadata": {},
   "source": [
    "We see that about the 31% of the songs purchased are done in an album fashion. Since this number is rather high, it might make sense to not buy single tracks from the record companies"
   ]
  },
  {
   "cell_type": "markdown",
   "metadata": {
    "collapsed": true
   },
   "source": [
    "### Other business questions\n",
    "* Which artist is used in most playlists?\n",
    "* Purchased vs Not Purchased tracks percentage\n",
    "* Is the range of tracks reflective of their popularity?\n",
    "* Protected vs not ptotected have an effect in popularity?"
   ]
  },
  {
   "cell_type": "code",
   "execution_count": 53,
   "metadata": {},
   "outputs": [
    {
     "name": "stdout",
     "output_type": "stream",
     "text": [
      "Done.\n"
     ]
    },
    {
     "data": {
      "text/html": [
       "<table>\n",
       "    <tr>\n",
       "        <th>name</th>\n",
       "        <th>number_playlists</th>\n",
       "    </tr>\n",
       "    <tr>\n",
       "        <td>Academy of St. Martin in the Fields &amp; Sir Neville Marriner</td>\n",
       "        <td>5</td>\n",
       "    </tr>\n",
       "    <tr>\n",
       "        <td>Gustav Mahler</td>\n",
       "        <td>5</td>\n",
       "    </tr>\n",
       "    <tr>\n",
       "        <td>James Levine</td>\n",
       "        <td>5</td>\n",
       "    </tr>\n",
       "    <tr>\n",
       "        <td>Luciano Pavarotti</td>\n",
       "        <td>5</td>\n",
       "    </tr>\n",
       "    <tr>\n",
       "        <td>Maurizio Pollini</td>\n",
       "        <td>5</td>\n",
       "    </tr>\n",
       "    <tr>\n",
       "        <td>Scholars Baroque Ensemble</td>\n",
       "        <td>5</td>\n",
       "    </tr>\n",
       "    <tr>\n",
       "        <td>The King&#x27;s Singers</td>\n",
       "        <td>5</td>\n",
       "    </tr>\n",
       "    <tr>\n",
       "        <td>Wilhelm Kempff</td>\n",
       "        <td>5</td>\n",
       "    </tr>\n",
       "    <tr>\n",
       "        <td>Yo-Yo Ma</td>\n",
       "        <td>5</td>\n",
       "    </tr>\n",
       "    <tr>\n",
       "        <td>Accept</td>\n",
       "        <td>4</td>\n",
       "    </tr>\n",
       "</table>"
      ],
      "text/plain": [
       "[('Academy of St. Martin in the Fields & Sir Neville Marriner', 5),\n",
       " ('Gustav Mahler', 5),\n",
       " ('James Levine', 5),\n",
       " ('Luciano Pavarotti', 5),\n",
       " ('Maurizio Pollini', 5),\n",
       " ('Scholars Baroque Ensemble', 5),\n",
       " (\"The King's Singers\", 5),\n",
       " ('Wilhelm Kempff', 5),\n",
       " ('Yo-Yo Ma', 5),\n",
       " ('Accept', 4)]"
      ]
     },
     "execution_count": 53,
     "metadata": {},
     "output_type": "execute_result"
    }
   ],
   "source": [
    "%%sql\n",
    "WITH artist_in_playlists AS (\n",
    "    SELECT \n",
    "        art.name,\n",
    "        plt.playlist_id\n",
    "    FROM invoice_line AS invl\n",
    "    INNER JOIN invoice AS inv ON invl.invoice_id = inv.invoice_id\n",
    "    INNER JOIN track AS tr ON invl.track_id = tr.track_id\n",
    "    INNER JOIN playlist_track AS plt ON tr.track_id = plt.track_id\n",
    "    INNER JOIN album AS al ON tr.album_id = al.album_id\n",
    "    INNER JOIN artist AS art ON al.artist_id = art.artist_id\n",
    "    GROUP BY art.name, art.artist_id, plt.playlist_id\n",
    ")\n",
    "\n",
    "SELECT \n",
    "    name, \n",
    "    COUNT(playlist_id) AS number_playlists\n",
    "FROM artist_in_playlists\n",
    "GROUP BY name\n",
    "ORDER BY number_playlists DESC\n",
    "LIMIT 10"
   ]
  },
  {
   "cell_type": "markdown",
   "metadata": {},
   "source": [
    "The most used artists in playlists are Academy of St. Martin in the Fields & Sir Neville Marriner, Gustav Mahler and others. They do not seem very famous."
   ]
  },
  {
   "cell_type": "code",
   "execution_count": 75,
   "metadata": {},
   "outputs": [
    {
     "name": "stdout",
     "output_type": "stream",
     "text": [
      "Done.\n"
     ]
    },
    {
     "data": {
      "text/html": [
       "<table>\n",
       "    <tr>\n",
       "        <th>number_purchased</th>\n",
       "        <th>number_not_purchased</th>\n",
       "    </tr>\n",
       "    <tr>\n",
       "        <td>1806</td>\n",
       "        <td>1697</td>\n",
       "    </tr>\n",
       "</table>"
      ],
      "text/plain": [
       "[(1806, 1697)]"
      ]
     },
     "execution_count": 75,
     "metadata": {},
     "output_type": "execute_result"
    }
   ],
   "source": [
    "%%sql\n",
    "WITH \n",
    "purchased_tracks AS (\n",
    "    SELECT track_id FROM invoice_line\n",
    "    GROUP BY track_id\n",
    "),\n",
    "not_purchased_tracks AS (\n",
    "    SELECT track_id FROM track\n",
    "    EXCEPT\n",
    "    SELECT track_id FROM purchased_tracks\n",
    ")\n",
    "\n",
    "SELECT \n",
    "    (SELECT COUNT(*) FROM purchased_tracks) AS number_purchased,\n",
    "    (SELECT COUNT(*) FROM not_purchased_tracks) AS number_not_purchased"
   ]
  },
  {
   "cell_type": "markdown",
   "metadata": {},
   "source": [
    "About there are as many purchased songs as not purchased. This means that Chinook should consider not buying a large amount of songs from the catallog to the record companies."
   ]
  },
  {
   "cell_type": "code",
   "execution_count": 108,
   "metadata": {},
   "outputs": [
    {
     "name": "stdout",
     "output_type": "stream",
     "text": [
      "Done.\n"
     ]
    },
    {
     "data": {
      "text/html": [
       "<table>\n",
       "    <tr>\n",
       "        <th>perc_top100</th>\n",
       "        <th>perc_top500</th>\n",
       "        <th>number_tracks</th>\n",
       "    </tr>\n",
       "    <tr>\n",
       "        <td>0.0636956064746689</td>\n",
       "        <td>0.2884170695816691</td>\n",
       "        <td>3503</td>\n",
       "    </tr>\n",
       "</table>"
      ],
      "text/plain": [
       "[(0.0636956064746689, 0.2884170695816691, 3503)]"
      ]
     },
     "execution_count": 108,
     "metadata": {},
     "output_type": "execute_result"
    }
   ],
   "source": [
    "%%sql\n",
    "WITH \n",
    "purchased_track_ranking AS (\n",
    "    SELECT \n",
    "        track_id,\n",
    "        COUNT(track_id) AS number_sold  \n",
    "    FROM invoice_line\n",
    "    GROUP BY track_id\n",
    "    ORDER BY track_id DESC\n",
    "), \n",
    "top100 AS (\n",
    "    SELECT track_id, number_sold FROM purchased_track_ranking\n",
    "    LIMIT 100\n",
    "), \n",
    "top500 AS (\n",
    "    SELECT track_id, number_sold FROM purchased_track_ranking\n",
    "    LIMIT 500\n",
    ")\n",
    "\n",
    "SELECT \n",
    "    CAST((SELECT SUM(number_sold) \n",
    "          FROM top100\n",
    "         ) AS Float)/(SELECT SUM(number_sold) \n",
    "                      FROM purchased_track_ranking) AS perc_top100,\n",
    "    CAST((SELECT SUM(number_sold) \n",
    "          FROM top500\n",
    "         ) AS Float)/(SELECT SUM(number_sold) \n",
    "                      FROM purchased_track_ranking) AS perc_top500,\n",
    "    (SELECT COUNT(*) FROM track) AS number_tracks"
   ]
  },
  {
   "cell_type": "code",
   "execution_count": 111,
   "metadata": {},
   "outputs": [
    {
     "name": "stdout",
     "output_type": "stream",
     "text": [
      "Done.\n"
     ]
    },
    {
     "data": {
      "text/html": [
       "<table>\n",
       "    <tr>\n",
       "        <th>track_id</th>\n",
       "        <th>number_sold</th>\n",
       "    </tr>\n",
       "    <tr>\n",
       "        <td>3336</td>\n",
       "        <td>31</td>\n",
       "    </tr>\n",
       "    <tr>\n",
       "        <td>1489</td>\n",
       "        <td>14</td>\n",
       "    </tr>\n",
       "    <tr>\n",
       "        <td>1495</td>\n",
       "        <td>14</td>\n",
       "    </tr>\n",
       "    <tr>\n",
       "        <td>6</td>\n",
       "        <td>13</td>\n",
       "    </tr>\n",
       "    <tr>\n",
       "        <td>1487</td>\n",
       "        <td>13</td>\n",
       "    </tr>\n",
       "    <tr>\n",
       "        <td>1490</td>\n",
       "        <td>13</td>\n",
       "    </tr>\n",
       "    <tr>\n",
       "        <td>1483</td>\n",
       "        <td>12</td>\n",
       "    </tr>\n",
       "    <tr>\n",
       "        <td>2558</td>\n",
       "        <td>12</td>\n",
       "    </tr>\n",
       "    <tr>\n",
       "        <td>1129</td>\n",
       "        <td>11</td>\n",
       "    </tr>\n",
       "    <tr>\n",
       "        <td>1479</td>\n",
       "        <td>11</td>\n",
       "    </tr>\n",
       "</table>"
      ],
      "text/plain": [
       "[(3336, 31),\n",
       " (1489, 14),\n",
       " (1495, 14),\n",
       " (6, 13),\n",
       " (1487, 13),\n",
       " (1490, 13),\n",
       " (1483, 12),\n",
       " (2558, 12),\n",
       " (1129, 11),\n",
       " (1479, 11)]"
      ]
     },
     "execution_count": 111,
     "metadata": {},
     "output_type": "execute_result"
    }
   ],
   "source": [
    "%%sql\n",
    "WITH \n",
    "purchased_track_ranking AS (\n",
    "    SELECT \n",
    "        track_id,\n",
    "        COUNT(track_id) AS number_sold  \n",
    "    FROM invoice_line\n",
    "    GROUP BY track_id\n",
    "    ORDER BY number_sold DESC\n",
    "),\n",
    "test AS (\n",
    "    SELECT * FROM purchased_track_ranking\n",
    ")\n",
    "\n",
    "\n",
    "SELECT * FROM purchased_track_ranking LIMIT 10"
   ]
  },
  {
   "cell_type": "markdown",
   "metadata": {},
   "source": [
    "The Top100 and Top500 Most Sold songs account for 6% and 29% of the sales, however they account for 5.5% and 28% of the songs ever purchased respectively. Therefore the distribution of Sold songs seems rather uniform. Of course, about half the catalogue was never sold, which should be taken into account."
   ]
  },
  {
   "cell_type": "markdown",
   "metadata": {
    "collapsed": true
   },
   "source": [
    "## Conclusion\n",
    "In this project we learnt the following:\n",
    "* Most profittable/sold genre in USA is Rock by far, and it generates over 4 times more revenue than the following genres, Alternative&Punk or MEtal.\n",
    "* USA is the biggest market. The sales per customer are very similar in most countries, with some outliers such as Denmark, where the sales per customer are half.\n",
    "* About 30% of the songs are sold by album purchase.\n",
    "* The Top100 and Top500 Most Sold songs account for 6% and 29% of the sales"
   ]
  },
  {
   "cell_type": "code",
   "execution_count": null,
   "metadata": {},
   "outputs": [],
   "source": []
  }
 ],
 "metadata": {
  "kernelspec": {
   "display_name": "Python 3",
   "language": "python",
   "name": "python3"
  },
  "language_info": {
   "codemirror_mode": {
    "name": "ipython",
    "version": 3
   },
   "file_extension": ".py",
   "mimetype": "text/x-python",
   "name": "python",
   "nbconvert_exporter": "python",
   "pygments_lexer": "ipython3",
   "version": "3.8.3"
  }
 },
 "nbformat": 4,
 "nbformat_minor": 2
}
